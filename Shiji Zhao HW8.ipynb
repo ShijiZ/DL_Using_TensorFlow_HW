{
 "cells": [
  {
   "cell_type": "markdown",
   "metadata": {},
   "source": [
    "## Problem 1"
   ]
  },
  {
   "cell_type": "markdown",
   "metadata": {},
   "source": [
    "The codes and plots of training results are as follows. We can see that after scaling the raw dataset between 0 and 1, the test accuracy increases significantly."
   ]
  },
  {
   "cell_type": "code",
   "execution_count": 1,
   "metadata": {},
   "outputs": [
    {
     "name": "stderr",
     "output_type": "stream",
     "text": [
      "Using TensorFlow backend.\n"
     ]
    }
   ],
   "source": [
    "import numpy as np\n",
    "import matplotlib.pyplot as plt\n",
    "from sklearn.model_selection import train_test_split\n",
    "\n",
    "from keras.models import Sequential\n",
    "from keras.layers import LSTM"
   ]
  },
  {
   "cell_type": "code",
   "execution_count": 2,
   "metadata": {},
   "outputs": [],
   "source": [
    "# Create dataset for RNN\n",
    "DataList = [[[i+j] for i in range(8)] for j in range(100)]\n",
    "\n",
    "TargetList = [(i+8) for i in range(100)]"
   ]
  },
  {
   "cell_type": "code",
   "execution_count": 3,
   "metadata": {},
   "outputs": [
    {
     "name": "stdout",
     "output_type": "stream",
     "text": [
      "First 3 data points [[[0], [1], [2], [3], [4], [5], [6], [7]], [[1], [2], [3], [4], [5], [6], [7], [8]], [[2], [3], [4], [5], [6], [7], [8], [9]]]\n",
      "First 3 targets [8, 9, 10]\n",
      "\n",
      "Last 3 data points [[[97], [98], [99], [100], [101], [102], [103], [104]], [[98], [99], [100], [101], [102], [103], [104], [105]], [[99], [100], [101], [102], [103], [104], [105], [106]]]\n",
      "Last 3 targets [105, 106, 107]\n"
     ]
    }
   ],
   "source": [
    "# Have a look on the datasets\n",
    "print('First 3 data points',DataList[0:3])\n",
    "print('First 3 targets',TargetList[0:3])\n",
    "print()\n",
    "print('Last 3 data points',DataList[97:100])\n",
    "print('Last 3 targets',TargetList[97:100])"
   ]
  },
  {
   "cell_type": "markdown",
   "metadata": {},
   "source": [
    "### Without Scaling"
   ]
  },
  {
   "cell_type": "code",
   "execution_count": 4,
   "metadata": {},
   "outputs": [],
   "source": [
    "data = np.array(DataList, dtype=float)\n",
    "target = np.array(TargetList, dtype=float)\n",
    "\n",
    "# Split dataset\n",
    "x_train, x_test, y_train, y_test = train_test_split(data, target, test_size=0.2, random_state=4)"
   ]
  },
  {
   "cell_type": "code",
   "execution_count": 5,
   "metadata": {
    "scrolled": true
   },
   "outputs": [
    {
     "name": "stdout",
     "output_type": "stream",
     "text": [
      "_________________________________________________________________\n",
      "Layer (type)                 Output Shape              Param #   \n",
      "=================================================================\n",
      "lstm_1 (LSTM)                (None, 1)                 12        \n",
      "=================================================================\n",
      "Total params: 12\n",
      "Trainable params: 12\n",
      "Non-trainable params: 0\n",
      "_________________________________________________________________\n"
     ]
    }
   ],
   "source": [
    "# RNN model\n",
    "model = Sequential()\n",
    "\n",
    "# Add the LSTM\n",
    "model.add(LSTM((1), batch_input_shape=(None,8,1), return_sequences=False))\n",
    "\n",
    "model.compile(loss='mean_absolute_error', optimizer='adam', metrics=['accuracy'])\n",
    "\n",
    "model.summary()"
   ]
  },
  {
   "cell_type": "code",
   "execution_count": 6,
   "metadata": {},
   "outputs": [],
   "source": [
    "# Fit the training data to the model\n",
    "history = model.fit(x_train, y_train, epochs=50, verbose=0, validation_data=(x_test,y_test))"
   ]
  },
  {
   "cell_type": "code",
   "execution_count": 7,
   "metadata": {},
   "outputs": [
    {
     "data": {
      "image/png": "[encoded data removed]",
      "text/plain": [
       "<Figure size 720x288 with 2 Axes>"
      ]
     },
     "metadata": {},
     "output_type": "display_data"
    }
   ],
   "source": [
    "# Plot the results, accuracy and loss function\n",
    "results = model.predict(x_test)\n",
    "\n",
    "fig, axs = plt.subplots(1,2,figsize=(10,4))\n",
    "ax = axs[0]\n",
    "ax.scatter(range(20),results,label='Predictions')\n",
    "ax.scatter(range(20),y_test,label='True labels')\n",
    "ax.legend()\n",
    "ax.set_title('Predictions of Test Data without Scaling')\n",
    "\n",
    "ax = axs[1]\n",
    "ax.plot(history.history['loss'])\n",
    "ax.set_title('Loss Plot against Epochs')\n",
    "ax.set_xlabel('epochs')\n",
    "plt.show()"
   ]
  },
  {
   "cell_type": "markdown",
   "metadata": {},
   "source": [
    "### With Scaling"
   ]
  },
  {
   "cell_type": "code",
   "execution_count": 8,
   "metadata": {},
   "outputs": [],
   "source": [
    "data = np.array(DataList, dtype=float)\n",
    "target = np.array(TargetList, dtype=float)\n",
    "\n",
    "# Scale the data between 0 and 1\n",
    "dataScale = data/100\n",
    "targetScale = target/100\n",
    "\n",
    "# Split dataset\n",
    "x_train, x_test, y_train, y_test = train_test_split(dataScale, targetScale, test_size=0.2, random_state=4)"
   ]
  },
  {
   "cell_type": "code",
   "execution_count": 9,
   "metadata": {},
   "outputs": [
    {
     "name": "stdout",
     "output_type": "stream",
     "text": [
      "_________________________________________________________________\n",
      "Layer (type)                 Output Shape              Param #   \n",
      "=================================================================\n",
      "lstm_2 (LSTM)                (None, 1)                 12        \n",
      "=================================================================\n",
      "Total params: 12\n",
      "Trainable params: 12\n",
      "Non-trainable params: 0\n",
      "_________________________________________________________________\n"
     ]
    }
   ],
   "source": [
    "# RNN model\n",
    "model = Sequential()\n",
    "\n",
    "# Add the LSTM\n",
    "model.add(LSTM((1), batch_input_shape=(None,8,1), return_sequences=False))\n",
    "\n",
    "model.compile(loss='mean_absolute_error', optimizer='adam', metrics=['accuracy'])\n",
    "\n",
    "model.summary()"
   ]
  },
  {
   "cell_type": "code",
   "execution_count": 10,
   "metadata": {},
   "outputs": [],
   "source": [
    "# Fit the training data to the model\n",
    "history = model.fit(x_train, y_train, epochs=50, verbose=0, validation_data=(x_test,y_test))"
   ]
  },
  {
   "cell_type": "code",
   "execution_count": 11,
   "metadata": {},
   "outputs": [
    {
     "data": {
      "image/png": "[encoded data removed]",
      "text/plain": [
       "<Figure size 720x288 with 2 Axes>"
      ]
     },
     "metadata": {},
     "output_type": "display_data"
    }
   ],
   "source": [
    "# Plot the results, accuracy and loss function\n",
    "results = model.predict(x_test)\n",
    "\n",
    "fig, axs = plt.subplots(1,2,figsize=(10,4))\n",
    "ax = axs[0]\n",
    "ax.scatter(range(20),results,label='Predictions')\n",
    "ax.scatter(range(20),y_test,label='True labels')\n",
    "ax.legend()\n",
    "ax.set_title('Predictions of Test Data without Scaling')\n",
    "\n",
    "ax = axs[1]\n",
    "ax.plot(history.history['loss'])\n",
    "ax.set_title('Loss Plot against Epochs')\n",
    "ax.set_xlabel('epochs')\n",
    "plt.show()"
   ]
  },
  {
   "cell_type": "markdown",
   "metadata": {},
   "source": [
    "## Problem 2"
   ]
  },
  {
   "cell_type": "markdown",
   "metadata": {},
   "source": [
    "The code and related plots are shown as follows. We can see that at the end the total score of the Q matrix converges. In addition, the testing step shows that the model has found the optimum policy start from any initial states."
   ]
  },
  {
   "cell_type": "code",
   "execution_count": 12,
   "metadata": {},
   "outputs": [
    {
     "data": {
      "image/png": "[encoded data removed]",
      "text/plain": [
       "<Figure size 432x288 with 1 Axes>"
      ]
     },
     "metadata": {},
     "output_type": "display_data"
    }
   ],
   "source": [
    "import numpy as np\n",
    "import pylab as plt\n",
    "\n",
    "# map cell to cell, add circular cell to goal point\n",
    "points_list = [(0,1), (1,5), (5,6), (5,4), (1,2), (2,3), (2,7), (7,8)]\n",
    "\n",
    "goal = 8\n",
    "\n",
    "import networkx as nx\n",
    "G=nx.Graph()\n",
    "G.add_edges_from(points_list)\n",
    "pos = nx.spring_layout(G)\n",
    "nx.draw_networkx_nodes(G,pos)\n",
    "nx.draw_networkx_edges(G,pos)\n",
    "nx.draw_networkx_labels(G,pos)\n",
    "plt.show()"
   ]
  },
  {
   "cell_type": "code",
   "execution_count": 13,
   "metadata": {},
   "outputs": [
    {
     "name": "stdout",
     "output_type": "stream",
     "text": [
      "[[ -1.   0.  -1.  -1.  -1.  -1.  -1.  -1.  -1.]\n",
      " [  0.  -1.   0.  -1.  -1.   0.  -1.  -1.  -1.]\n",
      " [ -1.   0.  -1.   0.  -1.  -1.  -1.   0.  -1.]\n",
      " [ -1.  -1.   0.  -1.  -1.  -1.  -1.  -1.  -1.]\n",
      " [ -1.  -1.  -1.  -1.  -1.   0.  -1.  -1.  -1.]\n",
      " [ -1.   0.  -1.  -1.   0.  -1.   0.  -1.  -1.]\n",
      " [ -1.  -1.  -1.  -1.  -1.   0.  -1.  -1.  -1.]\n",
      " [ -1.  -1.   0.  -1.  -1.  -1.  -1.  -1. 100.]\n",
      " [ -1.  -1.  -1.  -1.  -1.  -1.  -1.   0. 100.]]\n"
     ]
    }
   ],
   "source": [
    "# how many points in graph? x points\n",
    "MATRIX_SIZE = 9\n",
    "\n",
    "# create matrix x*y\n",
    "R = np.matrix(np.ones(shape=(MATRIX_SIZE, MATRIX_SIZE)))\n",
    "R *= -1\n",
    "\n",
    "# assign zeros to paths and 100 to goal-reaching point\n",
    "for point in points_list:\n",
    "    if point[1] == goal:\n",
    "        R[point] = 100\n",
    "    else:\n",
    "        R[point] = 0\n",
    "\n",
    "    if point[0] == goal:\n",
    "        R[point[::-1]] = 100\n",
    "    else:\n",
    "        # reverse of point\n",
    "        R[point[::-1]]= 0\n",
    "\n",
    "# add goal point round trip\n",
    "R[goal,goal]= 100\n",
    "\n",
    "print(R)"
   ]
  },
  {
   "cell_type": "code",
   "execution_count": 14,
   "metadata": {},
   "outputs": [
    {
     "name": "stdout",
     "output_type": "stream",
     "text": [
      "[[0. 0. 0. 0. 0. 0. 0. 0. 0.]\n",
      " [0. 0. 0. 0. 0. 0. 0. 0. 0.]\n",
      " [0. 0. 0. 0. 0. 0. 0. 0. 0.]\n",
      " [0. 0. 0. 0. 0. 0. 0. 0. 0.]\n",
      " [0. 0. 0. 0. 0. 0. 0. 0. 0.]\n",
      " [0. 0. 0. 0. 0. 0. 0. 0. 0.]\n",
      " [0. 0. 0. 0. 0. 0. 0. 0. 0.]\n",
      " [0. 0. 0. 0. 0. 0. 0. 0. 0.]\n",
      " [0. 0. 0. 0. 0. 0. 0. 0. 0.]]\n"
     ]
    }
   ],
   "source": [
    "# Build the Q matrix\n",
    "Q = np.matrix(np.zeros([MATRIX_SIZE,MATRIX_SIZE]))\n",
    "\n",
    "print(Q)"
   ]
  },
  {
   "cell_type": "code",
   "execution_count": 15,
   "metadata": {},
   "outputs": [],
   "source": [
    "# learning parameter\n",
    "gamma = 0.8\n",
    "\n",
    "initial_state = 1\n",
    "\n",
    "def available_actions(state):\n",
    "    current_state_row = R[state,]\n",
    "    av_act = np.where(current_state_row >= 0)[1]\n",
    "    return av_act\n",
    "\n",
    "def sample_next_action(available_actions_range):\n",
    "    next_action = int(np.random.choice(available_act,1))\n",
    "    return next_action\n",
    "\n",
    "def update(current_state, action, gamma):\n",
    "\n",
    "  max_index = np.where(Q[action,] == np.max(Q[action,]))[1]\n",
    "\n",
    "  if max_index.shape[0] > 1:\n",
    "      max_index = int(np.random.choice(max_index, size = 1))\n",
    "  else:\n",
    "      max_index = int(max_index)\n",
    "  max_value = Q[action, max_index]\n",
    "\n",
    "  Q[current_state, action] = R[current_state, action] + gamma * max_value\n",
    "  #print('max_value', R[current_state, action] + gamma * max_value)\n",
    "\n",
    "  if (np.max(Q) > 0):\n",
    "    return(np.sum(Q/np.max(Q)*100))\n",
    "  else:\n",
    "    return (0)"
   ]
  },
  {
   "cell_type": "code",
   "execution_count": 16,
   "metadata": {},
   "outputs": [
    {
     "name": "stdout",
     "output_type": "stream",
     "text": [
      "Trained Q matrix:\n",
      "[[  0.          51.0150482    0.           0.           0.\n",
      "    0.           0.           0.           0.        ]\n",
      " [ 40.81203856   0.          63.76881025   0.           0.\n",
      "   40.81203856   0.           0.           0.        ]\n",
      " [  0.          51.0150482    0.          51.0150482    0.\n",
      "    0.           0.          79.98732869   0.        ]\n",
      " [  0.           0.          63.98986295   0.           0.\n",
      "    0.           0.           0.           0.        ]\n",
      " [  0.           0.           0.           0.           0.\n",
      "   40.81203856   0.           0.           0.        ]\n",
      " [  0.          51.0150482    0.           0.          32.64963085\n",
      "    0.          32.64963085   0.           0.        ]\n",
      " [  0.           0.           0.           0.           0.\n",
      "   40.81203856   0.           0.           0.        ]\n",
      " [  0.           0.          63.98986295   0.           0.\n",
      "    0.           0.           0.          99.98416086]\n",
      " [  0.           0.           0.           0.           0.\n",
      "    0.           0.          79.98732869 100.        ]]\n"
     ]
    }
   ],
   "source": [
    "# Training\n",
    "scores = []\n",
    "for i in range(700):\n",
    "    current_state = np.random.randint(0, int(Q.shape[0]))\n",
    "    available_act = available_actions(current_state)\n",
    "    action = sample_next_action(available_act)\n",
    "    score = update(current_state,action,gamma)\n",
    "    scores.append(score)\n",
    "    #print ('Total Score:', str(score))\n",
    "\n",
    "print(\"Trained Q matrix:\")\n",
    "print(Q/np.max(Q)*100)"
   ]
  },
  {
   "cell_type": "code",
   "execution_count": 17,
   "metadata": {},
   "outputs": [
    {
     "data": {
      "image/png": "[encoded data removed]",
      "text/plain": [
       "<Figure size 432x288 with 1 Axes>"
      ]
     },
     "metadata": {},
     "output_type": "display_data"
    }
   ],
   "source": [
    "plt.plot(scores)\n",
    "plt.title('The Total Score of the Q Matrix')\n",
    "plt.xlabel('Steps')\n",
    "plt.ylabel('Total Score')\n",
    "plt.show()"
   ]
  },
  {
   "cell_type": "code",
   "execution_count": 18,
   "metadata": {},
   "outputs": [
    {
     "name": "stdout",
     "output_type": "stream",
     "text": [
      "Most efficient path start from state 0:\n",
      "[0, 1, 2, 7, 8]\n",
      "Most efficient path start from state 1:\n",
      "[1, 2, 7, 8]\n",
      "Most efficient path start from state 2:\n",
      "[2, 7, 8]\n",
      "Most efficient path start from state 3:\n",
      "[3, 2, 7, 8]\n",
      "Most efficient path start from state 4:\n",
      "[4, 5, 1, 2, 7, 8]\n",
      "Most efficient path start from state 5:\n",
      "[5, 1, 2, 7, 8]\n",
      "Most efficient path start from state 6:\n",
      "[6, 5, 1, 2, 7, 8]\n",
      "Most efficient path start from state 7:\n",
      "[7, 8]\n",
      "Most efficient path start from state 8:\n",
      "[8]\n"
     ]
    }
   ],
   "source": [
    "# Testing\n",
    "def optimum_path(current_state):\n",
    "    steps = [current_state]\n",
    "    \n",
    "    while current_state != 8:\n",
    "        next_step_index = np.where(Q[current_state,]\n",
    "            == np.max(Q[current_state,]))[1]\n",
    "    \n",
    "        if next_step_index.shape[0] > 1:\n",
    "            next_step_index = int(np.random.choice(next_step_index, size = 1))\n",
    "        else:\n",
    "            next_step_index = int(next_step_index)\n",
    "    \n",
    "        steps.append(next_step_index)\n",
    "        current_state = next_step_index\n",
    "        \n",
    "    return steps\n",
    "\n",
    "for i in range(9):\n",
    "    print(\"Most efficient path start from state %s:\"%i)\n",
    "    print(optimum_path(i))"
   ]
  },
  {
   "cell_type": "code",
   "execution_count": null,
   "metadata": {},
   "outputs": [],
   "source": []
  }
 ],
 "metadata": {
  "kernelspec": {
   "display_name": "Python 3",
   "language": "python",
   "name": "python3"
  },
  "language_info": {
   "codemirror_mode": {
    "name": "ipython",
    "version": 3
   },
   "file_extension": ".py",
   "mimetype": "text/x-python",
   "name": "python",
   "nbconvert_exporter": "python",
   "pygments_lexer": "ipython3",
   "version": "3.6.8"
  }
 },
 "nbformat": 4,
 "nbformat_minor": 2
}
